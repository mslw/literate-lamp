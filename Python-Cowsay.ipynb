{
 "cells": [
  {
   "cell_type": "markdown",
   "id": "cff4b976-93d1-4039-86dd-f0ba109ed3cf",
   "metadata": {},
   "source": [
    "# Hello World in Python with Cowsay\n",
    "\n",
    "This notebook shows that I can run python and have the packages specified in requirements."
   ]
  },
  {
   "cell_type": "code",
   "execution_count": 1,
   "id": "5527b335-3d7d-4fb0-be77-2d3c2c413d3b",
   "metadata": {},
   "outputs": [],
   "source": [
    "import cowsay"
   ]
  },
  {
   "cell_type": "code",
   "execution_count": 2,
   "id": "b745ab98-6174-457e-8a0b-a67dbda490f1",
   "metadata": {},
   "outputs": [
    {
     "name": "stdout",
     "output_type": "stream",
     "text": [
      "  ___________\n",
      "| Hello World |\n",
      "  ===========\n",
      "           \\\n",
      "            \\\n",
      "              ^__^\n",
      "              (oo)\\_______\n",
      "              (__)\\       )\\/\\\n",
      "                  ||----w |\n",
      "                  ||     ||\n"
     ]
    }
   ],
   "source": [
    "cowsay.cow(\"Hello World\")"
   ]
  },
  {
   "cell_type": "code",
   "execution_count": null,
   "id": "05149b3f-7276-4cee-9488-1d28bc9ece40",
   "metadata": {},
   "outputs": [],
   "source": []
  }
 ],
 "metadata": {
  "kernelspec": {
   "display_name": "Python (literate lamp)",
   "language": "python",
   "name": "literate-lamp-py"
  },
  "language_info": {
   "codemirror_mode": {
    "name": "ipython",
    "version": 3
   },
   "file_extension": ".py",
   "mimetype": "text/x-python",
   "name": "python",
   "nbconvert_exporter": "python",
   "pygments_lexer": "ipython3",
   "version": "3.9.2"
  }
 },
 "nbformat": 4,
 "nbformat_minor": 5
}
